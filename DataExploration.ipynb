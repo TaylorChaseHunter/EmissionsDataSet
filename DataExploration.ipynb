{
 "cells": [
  {
   "cell_type": "markdown",
   "id": "healthy-cowboy",
   "metadata": {},
   "source": [
    "## Explore Data in the Global Emissions Dataset"
   ]
  },
  {
   "cell_type": "markdown",
   "id": "sexual-antique",
   "metadata": {},
   "source": [
    "### Import"
   ]
  },
  {
   "cell_type": "code",
   "execution_count": 79,
   "id": "preceding-roulette",
   "metadata": {},
   "outputs": [],
   "source": [
    "import seaborn as sns\n",
    "import pandas as pd\n",
    "import numpy as np\n",
    "sns.set_palette(\"tab10\")"
   ]
  },
  {
   "cell_type": "markdown",
   "id": "classified-pottery",
   "metadata": {},
   "source": [
    "### Load Data"
   ]
  },
  {
   "cell_type": "code",
   "execution_count": 2,
   "id": "experimental-andorra",
   "metadata": {},
   "outputs": [
    {
     "name": "stdout",
     "output_type": "stream",
     "text": [
      "               Year         Total          Coal           Oil           Gas  \\\n",
      "count  63104.000000  62904.000000  21744.000000  21717.000000  21618.000000   \n",
      "mean    1885.500000     55.224788     73.968916     55.760624     23.504285   \n",
      "std       78.519728    824.845435    598.986992    519.034563    247.674772   \n",
      "min     1750.000000      0.000000      0.000000      0.000000      0.000000   \n",
      "25%     1817.750000      0.000000      0.000000      0.091600      0.000000   \n",
      "50%     1885.500000      0.000000      0.271852      1.044240      0.000000   \n",
      "75%     1953.250000      0.549342      6.736411      8.339752      0.581628   \n",
      "max     2021.000000  37123.850352  15051.512770  12345.653374   7921.829472   \n",
      "\n",
      "             Cement       Flaring        Other    Per Capita  \n",
      "count  20814.000000  21550.000000  1620.000000  18974.000000  \n",
      "mean       4.330443      1.712695    10.951389      4.413363  \n",
      "std       50.305770     16.727067    39.034073     17.432815  \n",
      "min        0.000000      0.000000     0.000000      0.000000  \n",
      "25%        0.000000      0.000000     0.520885      0.197866  \n",
      "50%        0.022756      0.000000     1.255329      1.303949  \n",
      "75%        0.568502      0.000000     4.385471      5.077994  \n",
      "max     1672.592372    439.253991   306.638573    834.192642  \n",
      "<class 'pandas.core.frame.DataFrame'>\n",
      "RangeIndex: 63104 entries, 0 to 63103\n",
      "Data columns (total 11 columns):\n",
      " #   Column              Non-Null Count  Dtype  \n",
      "---  ------              --------------  -----  \n",
      " 0   Country             63104 non-null  object \n",
      " 1   ISO 3166-1 alpha-3  61472 non-null  object \n",
      " 2   Year                63104 non-null  int64  \n",
      " 3   Total               62904 non-null  float64\n",
      " 4   Coal                21744 non-null  float64\n",
      " 5   Oil                 21717 non-null  float64\n",
      " 6   Gas                 21618 non-null  float64\n",
      " 7   Cement              20814 non-null  float64\n",
      " 8   Flaring             21550 non-null  float64\n",
      " 9   Other               1620 non-null   float64\n",
      " 10  Per Capita          18974 non-null  float64\n",
      "dtypes: float64(8), int64(1), object(2)\n",
      "memory usage: 5.3+ MB\n",
      "None\n"
     ]
    }
   ],
   "source": [
    "dataFrame = pd.read_csv('Data/GCB2022v27_MtCO2_flat.csv')\n",
    "print(dataFrame.describe())\n",
    "print(dataFrame.info())"
   ]
  },
  {
   "cell_type": "markdown",
   "id": "minor-length",
   "metadata": {},
   "source": [
    "### Notes on data\n",
    "\n",
    "Mean year of 1885 is the first interesting that pops out. This obviously relates to the industrial adoption of coal production, I am interested to see what countries differ from this average and possibly why.\n",
    "\n",
    "I am also intrested to see when and by how much the different countries phased out coal for oil, or if they have at all. I also wonder if any of this data can be correlated to ideology. "
   ]
  },
  {
   "cell_type": "markdown",
   "id": "public-haiti",
   "metadata": {},
   "source": [
    "### Exploring the Year"
   ]
  },
  {
   "cell_type": "code",
   "execution_count": 64,
   "id": "aerial-element",
   "metadata": {},
   "outputs": [
    {
     "name": "stdout",
     "output_type": "stream",
     "text": [
      "                            min\n",
      "Country                        \n",
      "Afghanistan                1750\n",
      "Albania                    1750\n",
      "Algeria                    1750\n",
      "Andorra                    1750\n",
      "Angola                     1750\n",
      "...                         ...\n",
      "Viet Nam                   1750\n",
      "Wallis and Futuna Islands  1750\n",
      "Yemen                      1750\n",
      "Zambia                     1750\n",
      "Zimbabwe                   1750\n",
      "\n",
      "[232 rows x 1 columns]\n",
      "[1750]\n"
     ]
    }
   ],
   "source": [
    "# Recieve min recording year for each country #\n",
    "min_year = dataFrame.groupby('Country').agg({'Year': ['min']})\n",
    "print(min_year['Year'])\n",
    "print(min_year['Year']['min'].unique())"
   ]
  },
  {
   "cell_type": "markdown",
   "id": "novel-packet",
   "metadata": {},
   "source": [
    "Well it seems that, simply put, the data collection starting year was the same for every country. I'm sure that was in the documentation somewhere."
   ]
  },
  {
   "cell_type": "code",
   "execution_count": 57,
   "id": "optical-diamond",
   "metadata": {},
   "outputs": [
    {
     "data": {
      "text/plain": [
       "array([272], dtype=int64)"
      ]
     },
     "execution_count": 57,
     "metadata": {},
     "output_type": "execute_result"
    }
   ],
   "source": [
    "unique_year = dataFrame.groupby('Country').agg({'Year': ['unique']})['Year']['unique']\n",
    "unique_year.apply(len).unique()"
   ]
  },
  {
   "cell_type": "markdown",
   "id": "chemical-share",
   "metadata": {},
   "source": [
    "They all cover every single year too -- Consistent! "
   ]
  },
  {
   "cell_type": "markdown",
   "id": "interstate-tension",
   "metadata": {},
   "source": [
    "### Let's explore 2021 now"
   ]
  },
  {
   "cell_type": "code",
   "execution_count": 75,
   "id": "touched-gentleman",
   "metadata": {},
   "outputs": [],
   "source": [
    "# Grab only the most recent year #\n",
    "recentYear = dataFrame[dataFrame.Year == 2021]\n",
    "recentYear = recentYear.sort_values(by=['Total'],ascending=False).head(12)\n",
    "recentYear = recentYear[recentYear.Country != 'Global']\n",
    "recentYear = recentYear[recentYear.Country != 'International Transport']"
   ]
  },
  {
   "cell_type": "markdown",
   "id": "alternative-representation",
   "metadata": {},
   "source": [
    "Only the big boys for now"
   ]
  },
  {
   "cell_type": "code",
   "execution_count": 76,
   "id": "accompanied-senegal",
   "metadata": {},
   "outputs": [
    {
     "data": {
      "text/html": [
       "<div>\n",
       "<style scoped>\n",
       "    .dataframe tbody tr th:only-of-type {\n",
       "        vertical-align: middle;\n",
       "    }\n",
       "\n",
       "    .dataframe tbody tr th {\n",
       "        vertical-align: top;\n",
       "    }\n",
       "\n",
       "    .dataframe thead th {\n",
       "        text-align: right;\n",
       "    }\n",
       "</style>\n",
       "<table border=\"1\" class=\"dataframe\">\n",
       "  <thead>\n",
       "    <tr style=\"text-align: right;\">\n",
       "      <th></th>\n",
       "      <th>Country</th>\n",
       "      <th>ISO 3166-1 alpha-3</th>\n",
       "      <th>Year</th>\n",
       "      <th>Total</th>\n",
       "      <th>Coal</th>\n",
       "      <th>Oil</th>\n",
       "      <th>Gas</th>\n",
       "      <th>Cement</th>\n",
       "      <th>Flaring</th>\n",
       "      <th>Other</th>\n",
       "      <th>Per Capita</th>\n",
       "    </tr>\n",
       "  </thead>\n",
       "  <tbody>\n",
       "    <tr>\n",
       "      <th>10879</th>\n",
       "      <td>China</td>\n",
       "      <td>CHN</td>\n",
       "      <td>2021</td>\n",
       "      <td>11472.369171</td>\n",
       "      <td>7955.985419</td>\n",
       "      <td>1713.339980</td>\n",
       "      <td>773.866062</td>\n",
       "      <td>852.961348</td>\n",
       "      <td>4.677478</td>\n",
       "      <td>171.538883</td>\n",
       "      <td>8.045741</td>\n",
       "    </tr>\n",
       "    <tr>\n",
       "      <th>60111</th>\n",
       "      <td>USA</td>\n",
       "      <td>USA</td>\n",
       "      <td>2021</td>\n",
       "      <td>5007.335889</td>\n",
       "      <td>1002.299987</td>\n",
       "      <td>2233.778180</td>\n",
       "      <td>1637.038462</td>\n",
       "      <td>41.203135</td>\n",
       "      <td>67.684371</td>\n",
       "      <td>25.331754</td>\n",
       "      <td>14.858668</td>\n",
       "    </tr>\n",
       "    <tr>\n",
       "      <th>25567</th>\n",
       "      <td>India</td>\n",
       "      <td>IND</td>\n",
       "      <td>2021</td>\n",
       "      <td>2709.683625</td>\n",
       "      <td>1802.311897</td>\n",
       "      <td>622.148121</td>\n",
       "      <td>133.450811</td>\n",
       "      <td>149.001244</td>\n",
       "      <td>2.771552</td>\n",
       "      <td>NaN</td>\n",
       "      <td>1.925088</td>\n",
       "    </tr>\n",
       "    <tr>\n",
       "      <th>47327</th>\n",
       "      <td>Russia</td>\n",
       "      <td>RUS</td>\n",
       "      <td>2021</td>\n",
       "      <td>1755.547390</td>\n",
       "      <td>380.227147</td>\n",
       "      <td>403.080393</td>\n",
       "      <td>875.051751</td>\n",
       "      <td>21.920821</td>\n",
       "      <td>58.921786</td>\n",
       "      <td>16.345492</td>\n",
       "      <td>12.098650</td>\n",
       "    </tr>\n",
       "    <tr>\n",
       "      <th>27743</th>\n",
       "      <td>Japan</td>\n",
       "      <td>JPN</td>\n",
       "      <td>2021</td>\n",
       "      <td>1067.398435</td>\n",
       "      <td>418.820499</td>\n",
       "      <td>395.359389</td>\n",
       "      <td>221.525076</td>\n",
       "      <td>23.788868</td>\n",
       "      <td>0.344529</td>\n",
       "      <td>7.560075</td>\n",
       "      <td>8.565739</td>\n",
       "    </tr>\n",
       "    <tr>\n",
       "      <th>26655</th>\n",
       "      <td>Iran</td>\n",
       "      <td>IRN</td>\n",
       "      <td>2021</td>\n",
       "      <td>748.878752</td>\n",
       "      <td>3.729952</td>\n",
       "      <td>222.961835</td>\n",
       "      <td>466.993766</td>\n",
       "      <td>22.524908</td>\n",
       "      <td>32.668290</td>\n",
       "      <td>NaN</td>\n",
       "      <td>8.517397</td>\n",
       "    </tr>\n",
       "    <tr>\n",
       "      <th>21487</th>\n",
       "      <td>Germany</td>\n",
       "      <td>DEU</td>\n",
       "      <td>2021</td>\n",
       "      <td>674.753566</td>\n",
       "      <td>230.221049</td>\n",
       "      <td>248.200624</td>\n",
       "      <td>173.484052</td>\n",
       "      <td>13.233969</td>\n",
       "      <td>1.807425</td>\n",
       "      <td>7.806447</td>\n",
       "      <td>8.089741</td>\n",
       "    </tr>\n",
       "    <tr>\n",
       "      <th>49503</th>\n",
       "      <td>Saudi Arabia</td>\n",
       "      <td>SAU</td>\n",
       "      <td>2021</td>\n",
       "      <td>672.379870</td>\n",
       "      <td>0.000000</td>\n",
       "      <td>369.721417</td>\n",
       "      <td>270.065088</td>\n",
       "      <td>28.688192</td>\n",
       "      <td>3.905174</td>\n",
       "      <td>NaN</td>\n",
       "      <td>18.702989</td>\n",
       "    </tr>\n",
       "    <tr>\n",
       "      <th>25839</th>\n",
       "      <td>Indonesia</td>\n",
       "      <td>IDN</td>\n",
       "      <td>2021</td>\n",
       "      <td>619.277533</td>\n",
       "      <td>303.153575</td>\n",
       "      <td>210.249416</td>\n",
       "      <td>74.087852</td>\n",
       "      <td>28.637353</td>\n",
       "      <td>3.149338</td>\n",
       "      <td>NaN</td>\n",
       "      <td>2.262175</td>\n",
       "    </tr>\n",
       "    <tr>\n",
       "      <th>45695</th>\n",
       "      <td>South Korea</td>\n",
       "      <td>KOR</td>\n",
       "      <td>2021</td>\n",
       "      <td>616.074996</td>\n",
       "      <td>283.908353</td>\n",
       "      <td>171.484229</td>\n",
       "      <td>126.789734</td>\n",
       "      <td>23.704068</td>\n",
       "      <td>0.006091</td>\n",
       "      <td>10.182520</td>\n",
       "      <td>11.886424</td>\n",
       "    </tr>\n",
       "  </tbody>\n",
       "</table>\n",
       "</div>"
      ],
      "text/plain": [
       "            Country ISO 3166-1 alpha-3  Year         Total         Coal  \\\n",
       "10879         China                CHN  2021  11472.369171  7955.985419   \n",
       "60111           USA                USA  2021   5007.335889  1002.299987   \n",
       "25567         India                IND  2021   2709.683625  1802.311897   \n",
       "47327        Russia                RUS  2021   1755.547390   380.227147   \n",
       "27743         Japan                JPN  2021   1067.398435   418.820499   \n",
       "26655          Iran                IRN  2021    748.878752     3.729952   \n",
       "21487       Germany                DEU  2021    674.753566   230.221049   \n",
       "49503  Saudi Arabia                SAU  2021    672.379870     0.000000   \n",
       "25839     Indonesia                IDN  2021    619.277533   303.153575   \n",
       "45695   South Korea                KOR  2021    616.074996   283.908353   \n",
       "\n",
       "               Oil          Gas      Cement    Flaring       Other  Per Capita  \n",
       "10879  1713.339980   773.866062  852.961348   4.677478  171.538883    8.045741  \n",
       "60111  2233.778180  1637.038462   41.203135  67.684371   25.331754   14.858668  \n",
       "25567   622.148121   133.450811  149.001244   2.771552         NaN    1.925088  \n",
       "47327   403.080393   875.051751   21.920821  58.921786   16.345492   12.098650  \n",
       "27743   395.359389   221.525076   23.788868   0.344529    7.560075    8.565739  \n",
       "26655   222.961835   466.993766   22.524908  32.668290         NaN    8.517397  \n",
       "21487   248.200624   173.484052   13.233969   1.807425    7.806447    8.089741  \n",
       "49503   369.721417   270.065088   28.688192   3.905174         NaN   18.702989  \n",
       "25839   210.249416    74.087852   28.637353   3.149338         NaN    2.262175  \n",
       "45695   171.484229   126.789734   23.704068   0.006091   10.182520   11.886424  "
      ]
     },
     "execution_count": 76,
     "metadata": {},
     "output_type": "execute_result"
    }
   ],
   "source": [
    "recentYear"
   ]
  },
  {
   "cell_type": "code",
   "execution_count": 84,
   "id": "charitable-moisture",
   "metadata": {},
   "outputs": [
    {
     "ename": "TypeError",
     "evalue": "bar() got multiple values for argument 'width'",
     "output_type": "error",
     "traceback": [
      "\u001b[1;31m---------------------------------------------------------------------------\u001b[0m",
      "\u001b[1;31mTypeError\u001b[0m                                 Traceback (most recent call last)",
      "\u001b[1;32m<ipython-input-84-280d4bab05c5>\u001b[0m in \u001b[0;36m<module>\u001b[1;34m\u001b[0m\n\u001b[1;32m----> 1\u001b[1;33m \u001b[0mplt\u001b[0m \u001b[1;33m=\u001b[0m \u001b[0msns\u001b[0m\u001b[1;33m.\u001b[0m\u001b[0mbarplot\u001b[0m\u001b[1;33m(\u001b[0m\u001b[0mdata\u001b[0m\u001b[1;33m=\u001b[0m\u001b[0mrecentYear\u001b[0m\u001b[1;33m,\u001b[0m \u001b[0mx\u001b[0m\u001b[1;33m=\u001b[0m\u001b[1;34m'Country'\u001b[0m\u001b[1;33m,\u001b[0m \u001b[0my\u001b[0m\u001b[1;33m=\u001b[0m\u001b[1;34m'Total'\u001b[0m\u001b[1;33m,\u001b[0m \u001b[0mwidth\u001b[0m\u001b[1;33m=\u001b[0m\u001b[1;36m2\u001b[0m\u001b[1;33m)\u001b[0m\u001b[1;33m\u001b[0m\u001b[1;33m\u001b[0m\u001b[0m\n\u001b[0m",
      "\u001b[1;32mc:\\users\\sepro\\appdata\\local\\programs\\python\\python38\\lib\\site-packages\\seaborn\\_decorators.py\u001b[0m in \u001b[0;36minner_f\u001b[1;34m(*args, **kwargs)\u001b[0m\n\u001b[0;32m     44\u001b[0m             )\n\u001b[0;32m     45\u001b[0m         \u001b[0mkwargs\u001b[0m\u001b[1;33m.\u001b[0m\u001b[0mupdate\u001b[0m\u001b[1;33m(\u001b[0m\u001b[1;33m{\u001b[0m\u001b[0mk\u001b[0m\u001b[1;33m:\u001b[0m \u001b[0marg\u001b[0m \u001b[1;32mfor\u001b[0m \u001b[0mk\u001b[0m\u001b[1;33m,\u001b[0m \u001b[0marg\u001b[0m \u001b[1;32min\u001b[0m \u001b[0mzip\u001b[0m\u001b[1;33m(\u001b[0m\u001b[0msig\u001b[0m\u001b[1;33m.\u001b[0m\u001b[0mparameters\u001b[0m\u001b[1;33m,\u001b[0m \u001b[0margs\u001b[0m\u001b[1;33m)\u001b[0m\u001b[1;33m}\u001b[0m\u001b[1;33m)\u001b[0m\u001b[1;33m\u001b[0m\u001b[1;33m\u001b[0m\u001b[0m\n\u001b[1;32m---> 46\u001b[1;33m         \u001b[1;32mreturn\u001b[0m \u001b[0mf\u001b[0m\u001b[1;33m(\u001b[0m\u001b[1;33m**\u001b[0m\u001b[0mkwargs\u001b[0m\u001b[1;33m)\u001b[0m\u001b[1;33m\u001b[0m\u001b[1;33m\u001b[0m\u001b[0m\n\u001b[0m\u001b[0;32m     47\u001b[0m     \u001b[1;32mreturn\u001b[0m \u001b[0minner_f\u001b[0m\u001b[1;33m\u001b[0m\u001b[1;33m\u001b[0m\u001b[0m\n\u001b[0;32m     48\u001b[0m \u001b[1;33m\u001b[0m\u001b[0m\n",
      "\u001b[1;32mc:\\users\\sepro\\appdata\\local\\programs\\python\\python38\\lib\\site-packages\\seaborn\\categorical.py\u001b[0m in \u001b[0;36mbarplot\u001b[1;34m(x, y, hue, data, order, hue_order, estimator, ci, n_boot, units, seed, orient, color, palette, saturation, errcolor, errwidth, capsize, dodge, ax, **kwargs)\u001b[0m\n\u001b[0;32m   3185\u001b[0m         \u001b[0max\u001b[0m \u001b[1;33m=\u001b[0m \u001b[0mplt\u001b[0m\u001b[1;33m.\u001b[0m\u001b[0mgca\u001b[0m\u001b[1;33m(\u001b[0m\u001b[1;33m)\u001b[0m\u001b[1;33m\u001b[0m\u001b[1;33m\u001b[0m\u001b[0m\n\u001b[0;32m   3186\u001b[0m \u001b[1;33m\u001b[0m\u001b[0m\n\u001b[1;32m-> 3187\u001b[1;33m     \u001b[0mplotter\u001b[0m\u001b[1;33m.\u001b[0m\u001b[0mplot\u001b[0m\u001b[1;33m(\u001b[0m\u001b[0max\u001b[0m\u001b[1;33m,\u001b[0m \u001b[0mkwargs\u001b[0m\u001b[1;33m)\u001b[0m\u001b[1;33m\u001b[0m\u001b[1;33m\u001b[0m\u001b[0m\n\u001b[0m\u001b[0;32m   3188\u001b[0m     \u001b[1;32mreturn\u001b[0m \u001b[0max\u001b[0m\u001b[1;33m\u001b[0m\u001b[1;33m\u001b[0m\u001b[0m\n\u001b[0;32m   3189\u001b[0m \u001b[1;33m\u001b[0m\u001b[0m\n",
      "\u001b[1;32mc:\\users\\sepro\\appdata\\local\\programs\\python\\python38\\lib\\site-packages\\seaborn\\categorical.py\u001b[0m in \u001b[0;36mplot\u001b[1;34m(self, ax, bar_kws)\u001b[0m\n\u001b[0;32m   1637\u001b[0m     \u001b[1;32mdef\u001b[0m \u001b[0mplot\u001b[0m\u001b[1;33m(\u001b[0m\u001b[0mself\u001b[0m\u001b[1;33m,\u001b[0m \u001b[0max\u001b[0m\u001b[1;33m,\u001b[0m \u001b[0mbar_kws\u001b[0m\u001b[1;33m)\u001b[0m\u001b[1;33m:\u001b[0m\u001b[1;33m\u001b[0m\u001b[1;33m\u001b[0m\u001b[0m\n\u001b[0;32m   1638\u001b[0m         \u001b[1;34m\"\"\"Make the plot.\"\"\"\u001b[0m\u001b[1;33m\u001b[0m\u001b[1;33m\u001b[0m\u001b[0m\n\u001b[1;32m-> 1639\u001b[1;33m         \u001b[0mself\u001b[0m\u001b[1;33m.\u001b[0m\u001b[0mdraw_bars\u001b[0m\u001b[1;33m(\u001b[0m\u001b[0max\u001b[0m\u001b[1;33m,\u001b[0m \u001b[0mbar_kws\u001b[0m\u001b[1;33m)\u001b[0m\u001b[1;33m\u001b[0m\u001b[1;33m\u001b[0m\u001b[0m\n\u001b[0m\u001b[0;32m   1640\u001b[0m         \u001b[0mself\u001b[0m\u001b[1;33m.\u001b[0m\u001b[0mannotate_axes\u001b[0m\u001b[1;33m(\u001b[0m\u001b[0max\u001b[0m\u001b[1;33m)\u001b[0m\u001b[1;33m\u001b[0m\u001b[1;33m\u001b[0m\u001b[0m\n\u001b[0;32m   1641\u001b[0m         \u001b[1;32mif\u001b[0m \u001b[0mself\u001b[0m\u001b[1;33m.\u001b[0m\u001b[0morient\u001b[0m \u001b[1;33m==\u001b[0m \u001b[1;34m\"h\"\u001b[0m\u001b[1;33m:\u001b[0m\u001b[1;33m\u001b[0m\u001b[1;33m\u001b[0m\u001b[0m\n",
      "\u001b[1;32mc:\\users\\sepro\\appdata\\local\\programs\\python\\python38\\lib\\site-packages\\seaborn\\categorical.py\u001b[0m in \u001b[0;36mdraw_bars\u001b[1;34m(self, ax, kws)\u001b[0m\n\u001b[0;32m   1602\u001b[0m \u001b[1;33m\u001b[0m\u001b[0m\n\u001b[0;32m   1603\u001b[0m             \u001b[1;31m# Draw the bars\u001b[0m\u001b[1;33m\u001b[0m\u001b[1;33m\u001b[0m\u001b[1;33m\u001b[0m\u001b[0m\n\u001b[1;32m-> 1604\u001b[1;33m             barfunc(barpos, self.statistic, self.width,\n\u001b[0m\u001b[0;32m   1605\u001b[0m                     color=self.colors, align=\"center\", **kws)\n\u001b[0;32m   1606\u001b[0m \u001b[1;33m\u001b[0m\u001b[0m\n",
      "\u001b[1;32mc:\\users\\sepro\\appdata\\local\\programs\\python\\python38\\lib\\site-packages\\matplotlib\\__init__.py\u001b[0m in \u001b[0;36minner\u001b[1;34m(ax, data, *args, **kwargs)\u001b[0m\n\u001b[0;32m   1445\u001b[0m     \u001b[1;32mdef\u001b[0m \u001b[0minner\u001b[0m\u001b[1;33m(\u001b[0m\u001b[0max\u001b[0m\u001b[1;33m,\u001b[0m \u001b[1;33m*\u001b[0m\u001b[0margs\u001b[0m\u001b[1;33m,\u001b[0m \u001b[0mdata\u001b[0m\u001b[1;33m=\u001b[0m\u001b[1;32mNone\u001b[0m\u001b[1;33m,\u001b[0m \u001b[1;33m**\u001b[0m\u001b[0mkwargs\u001b[0m\u001b[1;33m)\u001b[0m\u001b[1;33m:\u001b[0m\u001b[1;33m\u001b[0m\u001b[1;33m\u001b[0m\u001b[0m\n\u001b[0;32m   1446\u001b[0m         \u001b[1;32mif\u001b[0m \u001b[0mdata\u001b[0m \u001b[1;32mis\u001b[0m \u001b[1;32mNone\u001b[0m\u001b[1;33m:\u001b[0m\u001b[1;33m\u001b[0m\u001b[1;33m\u001b[0m\u001b[0m\n\u001b[1;32m-> 1447\u001b[1;33m             \u001b[1;32mreturn\u001b[0m \u001b[0mfunc\u001b[0m\u001b[1;33m(\u001b[0m\u001b[0max\u001b[0m\u001b[1;33m,\u001b[0m \u001b[1;33m*\u001b[0m\u001b[0mmap\u001b[0m\u001b[1;33m(\u001b[0m\u001b[0msanitize_sequence\u001b[0m\u001b[1;33m,\u001b[0m \u001b[0margs\u001b[0m\u001b[1;33m)\u001b[0m\u001b[1;33m,\u001b[0m \u001b[1;33m**\u001b[0m\u001b[0mkwargs\u001b[0m\u001b[1;33m)\u001b[0m\u001b[1;33m\u001b[0m\u001b[1;33m\u001b[0m\u001b[0m\n\u001b[0m\u001b[0;32m   1448\u001b[0m \u001b[1;33m\u001b[0m\u001b[0m\n\u001b[0;32m   1449\u001b[0m         \u001b[0mbound\u001b[0m \u001b[1;33m=\u001b[0m \u001b[0mnew_sig\u001b[0m\u001b[1;33m.\u001b[0m\u001b[0mbind\u001b[0m\u001b[1;33m(\u001b[0m\u001b[0max\u001b[0m\u001b[1;33m,\u001b[0m \u001b[1;33m*\u001b[0m\u001b[0margs\u001b[0m\u001b[1;33m,\u001b[0m \u001b[1;33m**\u001b[0m\u001b[0mkwargs\u001b[0m\u001b[1;33m)\u001b[0m\u001b[1;33m\u001b[0m\u001b[1;33m\u001b[0m\u001b[0m\n",
      "\u001b[1;31mTypeError\u001b[0m: bar() got multiple values for argument 'width'"
     ]
    },
    {
     "data": {
      "image/png": "[encoded data removed]",
      "text/plain": [
       "<Figure size 432x288 with 1 Axes>"
      ]
     },
     "metadata": {
      "needs_background": "light"
     },
     "output_type": "display_data"
    }
   ],
   "source": [
    "plt = sns.barplot(data=recentYear, x='Country', y='Total', width=2)"
   ]
  },
  {
   "cell_type": "code",
   "execution_count": null,
   "id": "superb-australian",
   "metadata": {},
   "outputs": [],
   "source": []
  }
 ],
 "metadata": {
  "kernelspec": {
   "display_name": "Python 3",
   "language": "python",
   "name": "python3"
  },
  "language_info": {
   "codemirror_mode": {
    "name": "ipython",
    "version": 3
   },
   "file_extension": ".py",
   "mimetype": "text/x-python",
   "name": "python",
   "nbconvert_exporter": "python",
   "pygments_lexer": "ipython3",
   "version": "3.8.6"
  }
 },
 "nbformat": 4,
 "nbformat_minor": 5
}
